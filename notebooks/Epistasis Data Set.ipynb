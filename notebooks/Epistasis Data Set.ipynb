{
 "cells": [
  {
   "cell_type": "markdown",
   "metadata": {},
   "source": [
    "# Epistasis Data Set #\n",
    "## Goal ##\n",
    "The goal of this test set is to evaluate the ability of the new covariation method to predict epistatic interactions. \n",
    "## Warning ##\n",
    "Before attempting to use this notebook make sure that your .env file has been properly setup to reflect the correct locations of command line tools and the location of files and directories needed for execution.\n",
    "### Initial Import###\n",
    "This first cell performs the necessary imports required to begin this notebook."
   ]
  },
  {
   "cell_type": "code",
   "execution_count": null,
   "metadata": {},
   "outputs": [],
   "source": [
    "from dotenv import find_dotenv, load_dotenv\n",
    "try:\n",
    "    dotenv_path = find_dotenv(raise_error_if_not_found=True)\n",
    "except IOError:\n",
    "    dotenv_path = find_dotenv(raise_error_if_not_found=True, usecwd=True)\n",
    "load_dotenv(dotenv_path)\n",
    "import os\n",
    "import sys\n",
    "sys.path.append(os.path.join(os.environ.get('PROJECT_PATH'), 'src', 'SupportingClasses'))\n",
    "input_dir = os.environ.get('INPUT_PATH')"
   ]
  },
  {
   "cell_type": "markdown",
   "metadata": {},
   "source": [
    "## Data Set Construction ##\n",
    "The first task required to test the data set is to download the required data and construct any necessary input files for all down stream analyses.\n",
    "In this case that means:\n",
    "* Downloading PDB files for the proteins in our small test set.\n",
    "* Extracting a query sequence from each PDB file.\n",
    "* Searching for paralogs, homologs, and orthologs in a custom BLAST database built by filtering the Uniref90 database.\n",
    "* Filtering the hits from the BLAST search to meet minimum and maximum length requirements, as well as minimum and maximum identity requirements.\n",
    "* Building alignments using CLUSTALW in both the fasta and msf formats since some of the tools which will be used for comparison need different formats.\n",
    "* Filtering the alignment for maximum identity similarity between seqeunces.\n",
    "* Re-aligning the filtered sequences using CLUSTALW.\n",
    "This is all handeled by the DataSetGenerator class found in the src/SupportingClasses folder"
   ]
  },
  {
   "cell_type": "code",
   "execution_count": null,
   "metadata": {},
   "outputs": [],
   "source": [
    "protein_list_dir = os.path.join(input_dir, 'ProteinLists')\n",
    "if not os.path.isdir(protein_list_dir):\n",
    "    os.makedirs(protein_list_dir)\n",
    "small_list_fn = os.path.join(protein_list_dir, 'EpistasisDataSet.txt')\n",
    "if not os.path.isfile(small_list_fn):\n",
    "    proteins_of_interest = ['1pgaA']\n",
    "    with open(small_list_fn, 'wb') as small_list_handle:\n",
    "        for p_id in proteins_of_interest:\n",
    "            small_list_handle.write('{}\\n'.format(p_id))"
   ]
  },
  {
   "cell_type": "code",
   "execution_count": null,
   "metadata": {},
   "outputs": [],
   "source": [
    "from time import time\n",
    "from DataSetGenerator import DataSetGenerator\n",
    "generator = DataSetGenerator(input_dir)\n",
    "start = time()\n",
    "generator.build_pdb_alignment_dataset(protein_list_fn=os.path.basename(small_list_fn), num_threads=10,\n",
    "                                      database='customuniref90.fasta', max_target_seqs=2500, remote=False, verbose=False)\n",
    "end = time()\n",
    "print('It took {} min to generate the data set.'.format((end - start) / 60.0))"
   ]
  },
  {
   "cell_type": "code",
   "execution_count": null,
   "metadata": {},
   "outputs": [],
   "source": [
    "def epistasis_model_product(single_mut1, single_mut2, double_mut):\n",
    "    product = single_mut1 * single_mut2\n",
    "    epistasis_value = double_mut - product\n",
    "    return epistasis_value\n",
    "\n",
    "def epistasis_model_additive(single_mut1, single_mut2, double_mut, wild_type=1.0):\n",
    "    single_muts = single_mut1 + single_mut2\n",
    "    double_muts = double_mut + wild_type\n",
    "    epistasis_value = double_muts - single_muts\n",
    "    \n",
    "def epistasis_model_log(single_mut1, single_mut2, double_mut, wild_type=1.0):\n",
    "    power1 = np.power(2, single_mut1) - wild_type\n",
    "    power2 = np.power(2, single_mut2) - wild_type\n",
    "    product = power1 * power2\n",
    "    inner = product + wild_type\n",
    "    log_value = np.log2(inner)\n",
    "    epistasis_value = double_mut - log_value\n",
    "    return epistasis_value\n",
    "    \n",
    "def epistasis_model_min(single_mut1, single_mut2, double_mut):\n",
    "    min_value = np.min([single_mut1, single_mut2])\n",
    "    epistasis_value = double_mut - min_value\n",
    "    return epistasis_value"
   ]
  },
  {
   "cell_type": "markdown",
   "metadata": {},
   "source": [
    "## Importing Epistasis Data ##\n",
    "Each epistatsis dataset is formatted differently and uses different end points to measure fitness. The following cells import data from epistasis studies of different protein domains.\n",
    "\n",
    "### GB1 ###\n",
    "The following dataset characterizes the protein G (GB1) and characterizes 1,045 single mutants and 509,693 double mutants covering 1,485 of the possible pairs of positions in this 56 amino acid domain.\n",
    "#### Reference ####\n",
    "Olson, C. A., Wu, N. C., & Sun, R. (2014). A Comprehensive Biophysical Description of Pairwise Epistasis throughout an Entire Protein Domain. Current Biology, 24(22), 2643–2651. https://doi.org/10.1016/J.CUB.2014.09.072"
   ]
  },
  {
   "cell_type": "code",
   "execution_count": null,
   "metadata": {},
   "outputs": [],
   "source": [
    "import pandas\n",
    "gb1_raw = pd.read_excel(os.environ.get('GB1_EXCEL_FILE'))\n",
    "mut_cols = {}\n",
    "last_col = None\n",
    "for col in gb1_raw.columns:\n",
    "    if not col.starswith('Unnamed:'):\n",
    "        last_col = col\n",
    "        mut_cols[last_col] = []\n",
    "    if last_col:\n",
    "        mut_cols[last_col].append(col)\n",
    "mut_tables = {}\n",
    "for mut_class in mut_cols:\n",
    "    curr_table = test.loc[1:, mut_cols[mut_class]]\n",
    "    curr_table.rename(columns={curr_table.columns[i]: test.loc[0, mut_cols[mut_class]][i]\n",
    "                               for i in range(len(mut_cols[mut_class]))}, inplace=True)\n",
    "    curr_table.dropna(axis='index', how='all', inplace=True)\n",
    "    curr_table.dropna(axis='columns', how='all', inplace=True)\n",
    "    mut_tables[mut_class]=curr_table\n",
    "mut_tables['DOUBLE MUTANTS']['Input Fraction'] = mut_tables['DOUBLE MUTANTS']['Input Count'].apply(\n",
    "    lambda x: float(x)/ float(mut_tables['WILD TYPE'].loc[1, 'Input Count']))\n",
    "mut_tables['DOUBLE MUTANTS']['Selection Fraction'] = mut_tables['DOUBLE MUTANTS']['Selection Count'].apply(\n",
    "    lambda x: float(x) / float(mut_tables['WILD TYPE'].loc[1, 'Selection Count']))\n",
    "mut_tables['DOUBLE MUTANTS']['Double Mut Fitness'] = mut_tables['DOUBLE MUTANTS'].apply(\n",
    "    lambda row: row['Selection Fraction'] / row['Input Fraction'], axis=1)"
   ]
  }
 ],
 "metadata": {
  "kernelspec": {
   "display_name": "Python (cET-MIp)",
   "language": "python",
   "name": "cet-mip"
  },
  "language_info": {
   "codemirror_mode": {
    "name": "ipython",
    "version": 2
   },
   "file_extension": ".py",
   "mimetype": "text/x-python",
   "name": "python",
   "nbconvert_exporter": "python",
   "pygments_lexer": "ipython2",
   "version": "2.7.12"
  }
 },
 "nbformat": 4,
 "nbformat_minor": 2
}
